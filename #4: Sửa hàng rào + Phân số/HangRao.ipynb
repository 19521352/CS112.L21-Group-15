{
 "cells": [
  {
   "cell_type": "markdown",
   "metadata": {},
   "source": [
    "# Hàng Rào\n",
    "### 1. Abstraction\n",
    "- input: mảng a[n] và mảng b[m]\n",
    "- ouput: h và k\n",
    "- bài toán:\n",
    "    > Tìm h<= a[i]+b[j] (i thuộc n, j thuộc m). Ứng với h tìm được lưu vị trí (i,j) vào k.\n",
    "    \n",
    "### 2. Pattern Recognition:\n",
    "- Dạng bài toán: \n",
    "    > Duyệt bằng con trỏ\n",
    "\t> Chia để trị (tìm kiếm nhị phân)"
   ]
  },
  {
   "cell_type": "code",
   "execution_count": null,
   "metadata": {},
   "outputs": [],
   "source": []
  },
  {
   "cell_type": "code",
   "execution_count": null,
   "metadata": {},
   "outputs": [],
   "source": []
  }
 ],
 "metadata": {
  "kernelspec": {
   "display_name": "Python 3",
   "language": "python",
   "name": "python3"
  },
  "language_info": {
   "codemirror_mode": {
    "name": "ipython",
    "version": 3
   },
   "file_extension": ".py",
   "mimetype": "text/x-python",
   "name": "python",
   "nbconvert_exporter": "python",
   "pygments_lexer": "ipython3",
   "version": "3.8.5"
  }
 },
 "nbformat": 4,
 "nbformat_minor": 4
}
