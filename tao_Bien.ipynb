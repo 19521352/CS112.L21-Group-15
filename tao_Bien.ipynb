{
 "cells": [
  {
   "cell_type": "markdown",
   "metadata": {},
   "source": [
    "# Tảo Biển\n",
    "### 1. Abstraction\n",
    "- input: 2 số nguyên n và k\n",
    "- ouput: tổng T\n",
    "- bài toán:\n",
    "    > Tính tổng T(k) biết T(0) = n ,T(1) = 2\\*n ,T(k) = n\\*(3\\*T(k-1)-T(k-2))\n",
    "\n",
    "### 2. Pattern Recognition:\n",
    "- Dạng bài toán: \n",
    "    >Quy hoạch động\n",
    "- Đặc điểm nhận dạng: \n",
    "    >Bài toán có các bài toán con gối nhau.\n",
    "\n",
    "### 3. Algorithm designed: \n",
    "    Nhập input\n",
    "        Nhập n\n",
    "        Nhập k\n",
    "    Khởi tạo biến\n",
    "        sum=0\n",
    "        tmp=n\n",
    "        i=1\n",
    "    Nếu i bé hơn k thì lặp lại:\n",
    "        result=tmp*2+s\n",
    "        s=s+tmp\n",
    "        tmp=result\n",
    "        i++\n",
    "    In biến result ra màn hình\n",
    "\n",
    "### 4. Đánh giá độ phức tạp thuật toán\n",
    "- Thuật toán có độ phức tạp là: O(n) do chỉ có một vòng lặp for lặp n lần\n"
   ]
  }
 ],
 "metadata": {
  "kernelspec": {
   "display_name": "Python 3",
   "language": "python",
   "name": "python3"
  },
  "language_info": {
   "codemirror_mode": {
    "name": "ipython",
    "version": 3
   },
   "file_extension": ".py",
   "mimetype": "text/x-python",
   "name": "python",
   "nbconvert_exporter": "python",
   "pygments_lexer": "ipython3",
   "version": "3.8.5"
  }
 },
 "nbformat": 4,
 "nbformat_minor": 4
}
