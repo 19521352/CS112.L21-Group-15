{
 "cells": [
  {
   "cell_type": "markdown",
   "metadata": {},
   "source": [
    "# H-index\n",
    "### 1. Abstraction\n",
    "- input: số nguyên n và chuỗi c gồm n phần tử\n",
    "- ouput: số nguyên H_index\n",
    "- bài toán:\n",
    "    > Sắp xếp chuỗi c theo giá trị giảm dần rồi sau đó tìm H_index theo công thức:\n",
    "    \n",
    "    > H_index = max {i <=n : c[i] >= i}\n",
    "\n",
    "### 2. Pattern Recognition:\n",
    "- Dạng bài toán: \n",
    "    > Vét cạn\n",
    "- Đặc điểm nhận dạng: \n",
    "    > Cần kiểm tra hết tất cả phần tử để tìm kết quả đúng nhất\n",
    "\n",
    "### 3. Algorithm designed: \n",
    "    Nhập input\n",
    "        Nhập n\n",
    "        Nhập chuỗi c\n",
    "    Sắp xếp chuỗi c theo giá trị giảm dần\n",
    "    Khởi tạo biến\n",
    "        i = 0\n",
    "        H_index = 0\n",
    "    Nếu i bé hơn n thì lặp lại:\n",
    "        Nếu c[i] >= i + 1\n",
    "            H_index = i + 1\n",
    "        i++\n",
    "    In biến H_index ra màn hình\n",
    "\n",
    "### 4. Đánh giá độ phức tạp thuật toán\n",
    "- Thuật toán có độ phức tạp là: O(n) do chỉ có một vòng lặp for lặp n lần"
   ]
  }
 ],
 "metadata": {
  "kernelspec": {
   "display_name": "Python 3",
   "language": "python",
   "name": "python3"
  },
  "language_info": {
   "codemirror_mode": {
    "name": "ipython",
    "version": 3
   },
   "file_extension": ".py",
   "mimetype": "text/x-python",
   "name": "python",
   "nbconvert_exporter": "python",
   "pygments_lexer": "ipython3",
   "version": "3.8.5"
  }
 },
 "nbformat": 4,
 "nbformat_minor": 4
}
