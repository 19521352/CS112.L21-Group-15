{
 "cells": [
  {
   "cell_type": "markdown",
   "metadata": {},
   "source": [
    "# Trạm thu phí\n",
    "### 1. Abstraction\n",
    "- Input: \n",
    "    >Số nguyên n , và mảng số nguyên A\n",
    "- Ouput: \n",
    "    >Số nguyên p , q , T\n",
    "- Bài toán:\n",
    "    >Tính tổng T của dãy con có tổng lớn nhất của chuỗi số n phần tử và xuất ra vị trí p , q của dãy con đó\n",
    "\n",
    "### 2. Pattern Recognition:\n",
    "- Dạng bài toán: \n",
    "    >Quy hoạch động\n",
    "- Đặc điểm nhận dạng: \n",
    "    >Bài toán có các bài toán con gối nhau.\n",
    "\n",
    "### 3. Algorithm designed: \n",
    "    Nhập input\n",
    "        Nhập n\n",
    "        Nhập mảng A\n",
    "    Khởi Tạo biến\n",
    "        sum = 0\n",
    "        max_sum = 0\n",
    "        current_start = 0\n",
    "        p = q = 0\n",
    "    Nếu i bé hơn n thì lặp lại:\n",
    "        Nếu sum + A[i] < A[i]\n",
    "            current_start = i\n",
    "            sum = A[i]\n",
    "        Nếu không:\n",
    "            sum = sum + A[i]\n",
    "    \n",
    "### 4. Đánh giá độ phức tạp thuật toán\n",
    "- Thuật toán có độ phức tạp là: O(n) do chỉ có một vòng lặp for lặp n lần\n",
    "\n"
   ]
  }
 ],
 "metadata": {
  "kernelspec": {
   "display_name": "Python 3",
   "language": "python",
   "name": "python3"
  },
  "language_info": {
   "codemirror_mode": {
    "name": "ipython",
    "version": 3
   },
   "file_extension": ".py",
   "mimetype": "text/x-python",
   "name": "python",
   "nbconvert_exporter": "python",
   "pygments_lexer": "ipython3",
   "version": "3.8.5"
  }
 },
 "nbformat": 4,
 "nbformat_minor": 4
}
