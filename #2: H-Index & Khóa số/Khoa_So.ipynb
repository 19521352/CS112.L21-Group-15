{
 "cells": [
  {
   "cell_type": "markdown",
   "metadata": {},
   "source": [
    "# Khóa số\n",
    "### 1. Abstraction\n",
    "- input: số nguyên n \n",
    "- ouput: số nguyên n\n",
    "- bài toán:\n",
    "    > Tìm số lớn nhất có thể chia hết cho 3 từ bộ số ban đầu bằng cách sắp xếp và loại bỏ phần tử\n",
    "    \n",
    "### 2. Pattern Recognition:\n",
    "- Dạng bài toán: \n",
    "    > Quy hoạch động\n",
    "- Đặc điểm nhận dạng: \n",
    "    > Bài toán gồm nhiều bài toán con gối nhau\n",
    "\n",
    "### 3. Algorithm designed: \n",
    "    Nhập input\n",
    "        Nhập n\n",
    "        Nhập chuỗi c\n",
    "    Sắp xếp chuỗi c theo giá trị giảm dần\n",
    "    Khởi tạo biến\n",
    "        i = 0\n",
    "        H_index = 0\n",
    "    Nếu i bé hơn n thì lặp lại:\n",
    "        Nếu c[i] >= i + 1\n",
    "            H_index = i + 1\n",
    "        i++\n",
    "    In biến H_index ra màn hình\n",
    "\n",
    "### 4. Đánh giá độ phức tạp thuật toán\n",
    "- Thuật toán có độ phức tạp là: O(n) "
   ]
  },
  {
   "cell_type": "code",
   "execution_count": null,
   "metadata": {},
   "outputs": [],
   "source": []
  }
 ],
 "metadata": {
  "kernelspec": {
   "display_name": "Python 3",
   "language": "python",
   "name": "python3"
  },
  "language_info": {
   "codemirror_mode": {
    "name": "ipython",
    "version": 3
   },
   "file_extension": ".py",
   "mimetype": "text/x-python",
   "name": "python",
   "nbconvert_exporter": "python",
   "pygments_lexer": "ipython3",
   "version": "3.8.5"
  }
 },
 "nbformat": 4,
 "nbformat_minor": 4
}
