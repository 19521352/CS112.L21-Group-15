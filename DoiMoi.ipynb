{
 "cells": [
  {
   "cell_type": "markdown",
   "metadata": {},
   "source": [
    "# Đổi Mới\n",
    "### 1. Abstraction\n",
    "- input: số nguyên a, k, b, m, n\n",
    "- ouput: số nguyên i\n",
    "- bài toán:\n",
    "    > Tìm i biết n = a\\*i + b\\*i - a\\*(i//k) - b\\*(i//m)\n",
    "    \n",
    "### 2. Pattern Recognition:\n",
    "- Dạng bài toán: \n",
    "    > Nhánh và cận (Branch and bound)\n",
    "- Đặc điểm nhận dạng: \n",
    "    > Cần tìm cận i gần nhất để giảm thiểu thời gian giải quyết bài toán\n",
    "\n",
    "### 3. Algorithm designed: \n",
    "    Nhập input\n",
    "        Nhập a, k, b, m, n\n",
    "    Khởi tạo biến\n",
    "        i = (n - 5)/(a - a / k + b - b / m ) - 5\n",
    "    Nếu (a+b)*i - a*(i//k) - b*(i//m) bé hơn n thì lặp lại:\n",
    "        i++\n",
    "    In biến i ra màn hình\n",
    "\n",
    "### 4. Đánh giá độ phức tạp thuật toán\n",
    "- Thuật toán có độ phức tạp là: O(n) \n",
    "\n",
    "### 5. Programming: cài đặt chương trình bằng NNLT Python\n",
    "```python\n",
    "a ,k ,b ,m ,n = [int(x) for x in input().split()]\n",
    "i = int(n/(a - a/k + b - b/m )) - 5\n",
    "while ((a+b)*i - a*(i//k) - b*(i//m) < n):\n",
    "    i += 1\n",
    "print(int(i))\n",
    "```"
   ]
  }
 ],
 "metadata": {
  "kernelspec": {
   "display_name": "Python 3",
   "language": "python",
   "name": "python3"
  },
  "language_info": {
   "codemirror_mode": {
    "name": "ipython",
    "version": 3
   },
   "file_extension": ".py",
   "mimetype": "text/x-python",
   "name": "python",
   "nbconvert_exporter": "python",
   "pygments_lexer": "ipython3",
   "version": "3.8.5"
  }
 },
 "nbformat": 4,
 "nbformat_minor": 4
}
