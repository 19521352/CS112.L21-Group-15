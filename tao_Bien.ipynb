{
 "cells": [
  {
   "cell_type": "markdown",
   "metadata": {},
   "source": [
    "# Tảo Biển\n",
    "### 1. Abstraction\n",
    "- input: 2 số nguyên n và k\n",
    "- ouput: tổng T\n",
    "- bài toán:\n",
    "> T(0) = n ,T(1) = 2*n ,T(k) = n*(3T(k-1)-T(k-2))\n",
    "\n",
    "### 2. Pattern Recognition:\n",
    "- Dạng bài toán: đệ quy\n",
    "- Đặc điểm nhận dạng: hàm gọi lại chính nó\n",
    "\n",
    "### 3. Algorithm designed: \n",
    "- If k bằng 0\n",
    "> return n\n",
    "- Elif k bằng 1\n",
    ">return 2*n\n",
    "- Else\n",
    "> return 3*f(n,k-2)-3*f(n,k-2)\n",
    "\n",
    "### 4. Đánh giá độ phức tạp thuật toán\n"
   ]
  },
  {
   "cell_type": "code",
   "execution_count": null,
   "metadata": {},
   "outputs": [],
   "source": []
  },
  {
   "cell_type": "code",
   "execution_count": null,
   "metadata": {},
   "outputs": [],
   "source": []
  }
 ],
 "metadata": {
  "kernelspec": {
   "display_name": "Python 3",
   "language": "python",
   "name": "python3"
  },
  "language_info": {
   "codemirror_mode": {
    "name": "ipython",
    "version": 3
   },
   "file_extension": ".py",
   "mimetype": "text/x-python",
   "name": "python",
   "nbconvert_exporter": "python",
   "pygments_lexer": "ipython3",
   "version": "3.8.5"
  }
 },
 "nbformat": 4,
 "nbformat_minor": 4
}
