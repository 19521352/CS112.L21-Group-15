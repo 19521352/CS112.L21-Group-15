{
 "cells": [
  {
   "cell_type": "markdown",
   "metadata": {},
   "source": [
    "# Trạm thu phí\n",
    "### 1. Abstraction\n",
    "- input: \n",
    "    >Số nguyên n , và mảng số nguyên A\n",
    "- ouput: \n",
    "    >Số nguyên p , q , T\n",
    "- bài toán:\n",
    "    >Tính tổng T của dãy con có tổng lớn nhất của chuỗi số n phần tử và xuất ra vị trí p , q của dãy con đó\n",
    "\n",
    "### 2. Pattern Recognition:\n",
    "- Dạng bài toán: \n",
    "    >Quy hoạch động\n",
    "- Đặc điểm nhận dạng: \n",
    "    >Bài toán có các bài toán con gối nhau.\n",
    "\n",
    "### 3. Algorithm designed: \n",
    "    Nhập input\n",
    "        Nhập n\n",
    "        Nhập mảng A\n",
    "    Khởi Tạo biến\n",
    "        sum = 0\n",
    "        max_sum = 0\n",
    "        current_start = 0\n",
    "        p = q = 0\n",
    "    Nếu i bé hơn n thì lặp lại:\n",
    "        nếu sum + A[i] < A[i]\n",
    "            current_start = i\n",
    "            sum = A[i]\n",
    "        nếu không:\n",
    "            sum = sum + A[i]\n",
    "    \n",
    "### 4. Đánh giá độ phức tạp thuật toán\n",
    "- Thuật toán có độ phức tạp là: O(n) do chỉ có một vòng lặp for lặp n lần\n",
    "\n",
    "### 5. Programming: cài đặt chương trình bằng NNLT Python\n",
    "```python\n",
    "    n = int(input())\n",
    "    n -= 1\n",
    "    A=[]\n",
    "    A = input().split()\n",
    "    A = list(map(int,A))\n",
    "    summ = best = 0\n",
    "    best_start = best_end = current_start = 0\n",
    "    for i in range(n):\n",
    "        if(summ + A[i] < A[i]):\n",
    "            current_start = i\n",
    "            summ = A[i];\n",
    "        else:\n",
    "            summ += A[i]\n",
    "\n",
    "        if(best < summ):\n",
    "            best = summ\n",
    "            best_start = current_start\n",
    "            best_end = i\n",
    "\n",
    "    print(best_start+1,\" \",best_end+1, \" \",best)\n",
    "```"
   ]
  }
 ],
 "metadata": {
  "kernelspec": {
   "display_name": "Python 3",
   "language": "python",
   "name": "python3"
  },
  "language_info": {
   "codemirror_mode": {
    "name": "ipython",
    "version": 3
   },
   "file_extension": ".py",
   "mimetype": "text/x-python",
   "name": "python",
   "nbconvert_exporter": "python",
   "pygments_lexer": "ipython3",
   "version": "3.8.5"
  }
 },
 "nbformat": 4,
 "nbformat_minor": 4
}
