{
 "cells": [
  {
   "cell_type": "markdown",
   "metadata": {},
   "source": [
    "# Phân Số\n",
    "### 1. Abstraction\n",
    "- input: số nguyên a, b, c, d\n",
    "- ouput: số nguyên i\n",
    "- bài toán:\n",
    "    > Tìm i là số lần để biến đổi a thành c và b thành d biết công thức mỗi lần biến đổi là a = (a + 1) / uc(a + 1, b + 1), b = (b + 1) / uc(a + 1, b + 1)",
    "    \n",
    "### 2. Pattern Recognition:\n",
    "- Dạng bài toán: \n",
    "    > Nhánh và cận (Branch and bound)\n",
    "- Đặc điểm nhận dạng: \n",
    "    > Cần tìm cận i gần nhất để giảm thiểu thời gian giải quyết bài toán\n",
    "\n",
    "### 3. Algorithm designed: \n",
    "    Nhập input\n",
    "        Nhập a, b, c, d\n",
    "    Khởi tạo biến\n",
    "        i = 0\n",
    "        A = a / b\n",
    "        B = c / d\n",
    "    Nếu A < B thì lặp lại:\n",
    "        i += 1\n",
    "        a += 1\n",
    "        b += 1\n",
    "        uc = gcd(a, b)\n",
    "        a //= uc\n",
    "        b //= uc\n",
    "        A = a/b\n",
    "        Nếu A == B:\n",
    "            In biến i ra màn hình\n",
    "            Dừng vòng lặp\n",
    "\n",
    "### 4. Đánh giá độ phức tạp thuật toán\n",
    "- Thuật toán có độ phức tạp là: O(n) \n",
    "\n",
    "### 5. Programming: cài đặt chương trình bằng NNLT Python\n",
    "```python\n",
    "a,b,c,d = [int(input()) for i in range(4)]\n",
    "def gcd(a,b) :\n",
    "    while(b != 0) :\n",
    "        tmp = a % b\n",
    "        a = b\n",
    "        b = tmp\n",
    "    return a\n",
    "dem = 0\n",
    "A = a / b\n",
    "B = c / d\n",
    "while A < B:\n",
    "    dem += 1\n",
    "    a += 1\n",
    "    b += 1\n",
    "    uc = gcd(a, b)\n",
    "    a //= uc\n",
    "    b //= uc\n",
    "    A = a/b\n",
    "    if A == B:\n",
    "        print(dem)\n",
    "        exit(0)\n",
    "print(0)\n",
    "```"
   ]
  },
  {
   "cell_type": "code",
   "execution_count": null,
   "metadata": {},
   "outputs": [],
   "source": []
  }
 ],
 "metadata": {
  "kernelspec": {
   "display_name": "Python 3",
   "language": "python",
   "name": "python3"
  },
  "language_info": {
   "codemirror_mode": {
    "name": "ipython",
    "version": 3
   },
   "file_extension": ".py",
   "mimetype": "text/x-python",
   "name": "python",
   "nbconvert_exporter": "python",
   "pygments_lexer": "ipython3",
   "version": "3.8.5"
  }
 },
 "nbformat": 4,
 "nbformat_minor": 4
}
