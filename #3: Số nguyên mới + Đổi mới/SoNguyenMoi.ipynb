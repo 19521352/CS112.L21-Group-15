{
 "cells": [
  {
   "cell_type": "markdown",
   "metadata": {},
   "source": [
    "# Số nguyên mới\n",
    "### 1. Abstraction\n",
    "- input: số nguyên n < 10^99\n",
    "- ouput: số nguyên m\n",
    "- bài toán:\n",
    "    > Tìm số m lớn nhất có thể chia hết cho 3 và khác n ở đúng 1 chữ số\n",
    "    \n",
    "### 2. Pattern Recognition:\n",
    "- Dạng bài toán: \n",
    "    > Vét cạn (Brute Force)\n",
    "- Đặc điểm nhận dạng: \n",
    "    > Cần duyệt từ chữ số đầu tiên đến chữ số cuối cùng của dãy để tìm và thay đổi được kết quả thỏa yêu cầu bài toán\n",
    "\n",
    "### 3. Algorithm designed: \n",
    "    a. gọi n là mảng các chữ số được nhập vào\n",
    "    b. duyệt i từ vị trí đầu đến cuối mảng n\n",
    "        + gán tmp=n[i]\n",
    "        + gán n[i]=9\n",
    "        + gán n[i] = 9-sum(n)%3\t#với sum(n)%3 là phần dư của tổng các chữ số vừa nhập với 3\n",
    "        + so sánh nếu n[i]>tmp thì thoát vòng lặp\n",
    "          trường hợp còn lại gán n[i] lại với giá trị ban đầu và tiếp tục duyệt\n",
    "    c. cuối cùng nếu n vẫn không chia hết cho 3(ví dụ với trường hợp n=88,n=988...) thì ta chỉ cần giảm dần chữ số \n",
    "        cuối cùng của n đến khi thỏa yêu cầu và xuất kết quả\n",
    "\n",
    "### 4. Đánh giá độ phức tạp thuật toán\n",
    "- Thuật toán có độ phức tạp là: O(n) \n",
    "\n",
    "### 5. Programming: cài đặt chương trình bằng NNLT Python\n",
    "```python\n",
    "from sys import stdin\n",
    "n = list(stdin.readline().strip())\n",
    "n_first = int(''.join(str(x) for x in n))\n",
    "n = [int(i) for i in n]\n",
    "for i in range(len(n)):\n",
    "    tmp=n[i]    \n",
    "    n[i]=9         \n",
    "    n[i]=9-sum(n)%3    \n",
    "    if n[i]>tmp:          \n",
    "        break\n",
    "    else:  \n",
    "        n[i]=tmp\n",
    "my_int = int(''.join(str(x) for x in n))\n",
    "while my_int %3 != 0 or my_int==n_first:\n",
    "    my_int-=1\n",
    "\n",
    "print(my_int)\n",
    "```"
   ]
  },
  {
   "cell_type": "code",
   "execution_count": null,
   "metadata": {},
   "outputs": [],
   "source": []
  }
 ],
 "metadata": {
  "kernelspec": {
   "display_name": "Python 3",
   "language": "python",
   "name": "python3"
  },
  "language_info": {
   "codemirror_mode": {
    "name": "ipython",
    "version": 3
   },
   "file_extension": ".py",
   "mimetype": "text/x-python",
   "name": "python",
   "nbconvert_exporter": "python",
   "pygments_lexer": "ipython3",
   "version": "3.8.5"
  }
 },
 "nbformat": 4,
 "nbformat_minor": 4
}
